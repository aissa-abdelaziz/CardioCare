{
 "cells": [
  {
   "cell_type": "code",
   "execution_count": null,
   "metadata": {
    "vscode": {
     "languageId": "plaintext"
    }
   },
   "outputs": [],
   "source": [
    "\n",
    "# # load the model \n",
    "# from mistral_inference.transformer import Transformer\n",
    "# from mistral_inference.generate import generate\n",
    "\n",
    "# from mistral_common.tokens.tokenizers.mistral import MistralTokenizer\n",
    "# from mistral_common.protocol.instruct.messages import UserMessage, TextChunk, ImageURLChunk\n",
    "# from mistral_common.protocol.instruct.request import ChatCompletionRequest\n",
    "\n",
    "# tokenizer = MistralTokenizer.from_file(f\"{mistral_models_path}/tekken.json\")\n",
    "# model = Transformer.from_folder(mistral_models_path)\n",
    "\n",
    "# # Run the model \n",
    "# url = \"https://huggingface.co/datasets/patrickvonplaten/random_img/resolve/main/yosemite.png\"\n",
    "# prompt = \"Describe the image.\"\n",
    "\n",
    "# completion_request = ChatCompletionRequest(messages=[UserMessage(content=[ImageURLChunk(image_url=url), TextChunk(text=prompt)])])\n",
    "\n",
    "# encoded = tokenizer.encode_chat_completion(completion_request)\n",
    "\n",
    "# images = encoded.images\n",
    "# tokens = encoded.tokens\n",
    "\n",
    "# out_tokens, _ = generate([tokens], model, images=[images], max_tokens=256, temperature=0.35, eos_id=tokenizer.instruct_tokenizer.tokenizer.eos_id)\n",
    "# result = tokenizer.decode(out_tokens[0])\n",
    "\n",
    "# print(result)"
   ]
  },
  {
   "cell_type": "code",
   "execution_count": null,
   "metadata": {
    "vscode": {
     "languageId": "plaintext"
    }
   },
   "outputs": [],
   "source": [
    "# ocr2.0 model failed\n",
    "\n",
    "# from transformers import AutoModel, AutoTokenizer\n",
    "\n",
    "# tokenizer = AutoTokenizer.from_pretrained('ucaslcl/GOT-OCR2_0', trust_remote_code=True)\n",
    "# model = AutoModel.from_pretrained('ucaslcl/GOT-OCR2_0', trust_remote_code=True, low_cpu_mem_usage=True, device_map='cuda', use_safetensors=True, pad_token_id=tokenizer.eos_token_id)\n",
    "# model = model.eval().cuda()\n",
    "# res = model.chat(tokenizer, image_file, ocr_type='format', render=True, save_render_file = './demo.html')\n",
    "# print(res)"
   ]
  },
  {
   "cell_type": "code",
   "execution_count": null,
   "metadata": {
    "vscode": {
     "languageId": "plaintext"
    }
   },
   "outputs": [],
   "source": [
    "# img2table failed\n",
    "\n",
    "# from IPython.display import display_html\n",
    "# from img2table.document import Image\n",
    "# from img2table.ocr import TesseractOCR\n",
    "\n",
    "# ocr = TesseractOCR()\n",
    "# img = Image(src=img_file)\n",
    "# extracted_tables = img.extract_tables(ocr=ocr, implicit_rows=False, implicit_columns=False)\n",
    "# table = extracted_tables.pop()\n",
    "# extracted_tables_implicit = img.extract_tables(ocr=ocr, implicit_rows=True, implicit_columns=False)\n",
    "# table_implicit_rows = extracted_tables_implicit.pop()\n",
    "# display_html(table.html_repr(title=\"Regular table\"), raw=True)\n",
    "# display_html(table_implicit_rows.html_repr(title=\"Table with implicit rows\"), raw=True)"
   ]
  },
  {
   "cell_type": "code",
   "execution_count": null,
   "metadata": {
    "vscode": {
     "languageId": "plaintext"
    }
   },
   "outputs": [],
   "source": [
    "# donut finetuned on cord failed\n",
    "\n",
    "# from transformers import pipeline\n",
    "\n",
    "# pipe = pipeline(\"image-to-text\", model=\"jinhybr/OCR-Donut-CORD\")\n",
    "# res = pipe(img)\n",
    "# print(res[0]['generated_text'])"
   ]
  },
  {
   "cell_type": "code",
   "execution_count": null,
   "metadata": {
    "vscode": {
     "languageId": "plaintext"
    }
   },
   "outputs": [],
   "source": [
    "# donut finetuned on cord v2 failed\n",
    "\n",
    "# from transformers import pipeline\n",
    "\n",
    "# pipe = pipeline(\"image-to-text\", model=\"naver-clova-ix/donut-base-finetuned-cord-v2\")\n",
    "# res = pipe(img)"
   ]
  },
  {
   "cell_type": "code",
   "execution_count": null,
   "metadata": {
    "vscode": {
     "languageId": "plaintext"
    }
   },
   "outputs": [],
   "source": []
  }
 ],
 "metadata": {
  "language_info": {
   "name": "python"
  }
 },
 "nbformat": 4,
 "nbformat_minor": 2
}
